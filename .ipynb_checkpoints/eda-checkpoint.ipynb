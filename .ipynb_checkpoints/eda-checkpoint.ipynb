{
 "cells": [
  {
   "cell_type": "markdown",
   "id": "887c819c-7c7b-4d94-a477-1d543179a081",
   "metadata": {},
   "source": [
    "# Imports"
   ]
  },
  {
   "cell_type": "code",
   "execution_count": 1,
   "id": "01c24836-9ba2-4a73-aa46-e4a3db465476",
   "metadata": {},
   "outputs": [],
   "source": [
    "import sqlite3\n",
    "import pandas as pd\n",
    "import numpy as np\n",
    "import seaborn as sns"
   ]
  },
  {
   "cell_type": "markdown",
   "id": "74c102c6-92c3-49bf-b245-05ab8809520b",
   "metadata": {},
   "source": [
    "# Fixed Variables"
   ]
  },
  {
   "cell_type": "code",
   "execution_count": 2,
   "id": "27a50669-33fe-4113-a66f-1c0cfb06055a",
   "metadata": {},
   "outputs": [],
   "source": [
    "db_path = \"data/score.db\"\n"
   ]
  },
  {
   "cell_type": "markdown",
   "id": "a9da6ef6-8632-412b-a9e3-807f5a7e6deb",
   "metadata": {},
   "source": [
    "# Setup connection to DB and import DB into pandas"
   ]
  },
  {
   "cell_type": "code",
   "execution_count": 3,
   "id": "ee6b50bc-2bb3-44ea-9615-1db4628319f6",
   "metadata": {},
   "outputs": [
    {
     "name": "stdout",
     "output_type": "stream",
     "text": [
      "Database created and Successfully Connected to SQLite\n",
      "Database imported to pandas DF, closing connection to database\n"
     ]
    }
   ],
   "source": [
    "connection = sqlite3.connect(db_path)\n",
    "cur = connection.cursor()\n",
    "print(\"Database created and Successfully Connected to SQLite\")\n",
    "df = pd.read_sql_query(\"SELECT * FROM score\", connection)\n",
    "connection.close()\n",
    "print(\"Database imported to pandas DF, closing connection to database\")\n"
   ]
  },
  {
   "cell_type": "markdown",
   "id": "09400578-310e-468a-b21a-9a1b1074ad15",
   "metadata": {},
   "source": [
    "# Quick view of dataset we are working with"
   ]
  },
  {
   "cell_type": "code",
   "execution_count": 4,
   "id": "1fb9b82a-bdab-4378-b2bc-c44efed36062",
   "metadata": {},
   "outputs": [
    {
     "data": {
      "text/html": [
       "<div>\n",
       "<style scoped>\n",
       "    .dataframe tbody tr th:only-of-type {\n",
       "        vertical-align: middle;\n",
       "    }\n",
       "\n",
       "    .dataframe tbody tr th {\n",
       "        vertical-align: top;\n",
       "    }\n",
       "\n",
       "    .dataframe thead th {\n",
       "        text-align: right;\n",
       "    }\n",
       "</style>\n",
       "<table border=\"1\" class=\"dataframe\">\n",
       "  <thead>\n",
       "    <tr style=\"text-align: right;\">\n",
       "      <th></th>\n",
       "      <th>index</th>\n",
       "      <th>number_of_siblings</th>\n",
       "      <th>direct_admission</th>\n",
       "      <th>CCA</th>\n",
       "      <th>learning_style</th>\n",
       "      <th>student_id</th>\n",
       "      <th>gender</th>\n",
       "      <th>tuition</th>\n",
       "      <th>final_test</th>\n",
       "      <th>n_male</th>\n",
       "      <th>n_female</th>\n",
       "      <th>age</th>\n",
       "      <th>hours_per_week</th>\n",
       "      <th>attendance_rate</th>\n",
       "      <th>sleep_time</th>\n",
       "      <th>wake_time</th>\n",
       "      <th>mode_of_transport</th>\n",
       "      <th>bag_color</th>\n",
       "    </tr>\n",
       "  </thead>\n",
       "  <tbody>\n",
       "    <tr>\n",
       "      <th>0</th>\n",
       "      <td>0</td>\n",
       "      <td>0</td>\n",
       "      <td>Yes</td>\n",
       "      <td>Sports</td>\n",
       "      <td>Visual</td>\n",
       "      <td>ACN2BE</td>\n",
       "      <td>Female</td>\n",
       "      <td>No</td>\n",
       "      <td>69.0</td>\n",
       "      <td>14.0</td>\n",
       "      <td>2.0</td>\n",
       "      <td>16.0</td>\n",
       "      <td>10.0</td>\n",
       "      <td>91.0</td>\n",
       "      <td>22:00</td>\n",
       "      <td>6:00</td>\n",
       "      <td>private transport</td>\n",
       "      <td>yellow</td>\n",
       "    </tr>\n",
       "    <tr>\n",
       "      <th>1</th>\n",
       "      <td>1</td>\n",
       "      <td>2</td>\n",
       "      <td>No</td>\n",
       "      <td>Sports</td>\n",
       "      <td>Auditory</td>\n",
       "      <td>FGXIIZ</td>\n",
       "      <td>Female</td>\n",
       "      <td>No</td>\n",
       "      <td>47.0</td>\n",
       "      <td>4.0</td>\n",
       "      <td>19.0</td>\n",
       "      <td>16.0</td>\n",
       "      <td>7.0</td>\n",
       "      <td>94.0</td>\n",
       "      <td>22:30</td>\n",
       "      <td>6:30</td>\n",
       "      <td>private transport</td>\n",
       "      <td>green</td>\n",
       "    </tr>\n",
       "    <tr>\n",
       "      <th>2</th>\n",
       "      <td>2</td>\n",
       "      <td>0</td>\n",
       "      <td>Yes</td>\n",
       "      <td>None</td>\n",
       "      <td>Visual</td>\n",
       "      <td>B9AI9F</td>\n",
       "      <td>Male</td>\n",
       "      <td>No</td>\n",
       "      <td>85.0</td>\n",
       "      <td>14.0</td>\n",
       "      <td>2.0</td>\n",
       "      <td>15.0</td>\n",
       "      <td>8.0</td>\n",
       "      <td>92.0</td>\n",
       "      <td>22:30</td>\n",
       "      <td>6:30</td>\n",
       "      <td>private transport</td>\n",
       "      <td>white</td>\n",
       "    </tr>\n",
       "    <tr>\n",
       "      <th>3</th>\n",
       "      <td>3</td>\n",
       "      <td>1</td>\n",
       "      <td>No</td>\n",
       "      <td>Clubs</td>\n",
       "      <td>Auditory</td>\n",
       "      <td>FEVM1T</td>\n",
       "      <td>Female</td>\n",
       "      <td>Yes</td>\n",
       "      <td>64.0</td>\n",
       "      <td>2.0</td>\n",
       "      <td>20.0</td>\n",
       "      <td>15.0</td>\n",
       "      <td>18.0</td>\n",
       "      <td>NaN</td>\n",
       "      <td>21:00</td>\n",
       "      <td>5:00</td>\n",
       "      <td>public transport</td>\n",
       "      <td>yellow</td>\n",
       "    </tr>\n",
       "    <tr>\n",
       "      <th>4</th>\n",
       "      <td>4</td>\n",
       "      <td>0</td>\n",
       "      <td>No</td>\n",
       "      <td>Sports</td>\n",
       "      <td>Auditory</td>\n",
       "      <td>AXZN2E</td>\n",
       "      <td>Male</td>\n",
       "      <td>No</td>\n",
       "      <td>66.0</td>\n",
       "      <td>24.0</td>\n",
       "      <td>3.0</td>\n",
       "      <td>16.0</td>\n",
       "      <td>7.0</td>\n",
       "      <td>95.0</td>\n",
       "      <td>21:30</td>\n",
       "      <td>5:30</td>\n",
       "      <td>public transport</td>\n",
       "      <td>yellow</td>\n",
       "    </tr>\n",
       "  </tbody>\n",
       "</table>\n",
       "</div>"
      ],
      "text/plain": [
       "   index  number_of_siblings direct_admission     CCA learning_style  \\\n",
       "0      0                   0              Yes  Sports         Visual   \n",
       "1      1                   2               No  Sports       Auditory   \n",
       "2      2                   0              Yes    None         Visual   \n",
       "3      3                   1               No   Clubs       Auditory   \n",
       "4      4                   0               No  Sports       Auditory   \n",
       "\n",
       "  student_id  gender tuition  final_test  n_male  n_female   age  \\\n",
       "0     ACN2BE  Female      No        69.0    14.0       2.0  16.0   \n",
       "1     FGXIIZ  Female      No        47.0     4.0      19.0  16.0   \n",
       "2     B9AI9F    Male      No        85.0    14.0       2.0  15.0   \n",
       "3     FEVM1T  Female     Yes        64.0     2.0      20.0  15.0   \n",
       "4     AXZN2E    Male      No        66.0    24.0       3.0  16.0   \n",
       "\n",
       "   hours_per_week  attendance_rate sleep_time wake_time  mode_of_transport  \\\n",
       "0            10.0             91.0      22:00      6:00  private transport   \n",
       "1             7.0             94.0      22:30      6:30  private transport   \n",
       "2             8.0             92.0      22:30      6:30  private transport   \n",
       "3            18.0              NaN      21:00      5:00   public transport   \n",
       "4             7.0             95.0      21:30      5:30   public transport   \n",
       "\n",
       "  bag_color  \n",
       "0    yellow  \n",
       "1     green  \n",
       "2     white  \n",
       "3    yellow  \n",
       "4    yellow  "
      ]
     },
     "execution_count": 4,
     "metadata": {},
     "output_type": "execute_result"
    }
   ],
   "source": [
    "df.head()"
   ]
  },
  {
   "cell_type": "code",
   "execution_count": 5,
   "id": "0ebd99b7-de17-4210-bafc-aea0b350a042",
   "metadata": {},
   "outputs": [
    {
     "data": {
      "text/html": [
       "<div>\n",
       "<style scoped>\n",
       "    .dataframe tbody tr th:only-of-type {\n",
       "        vertical-align: middle;\n",
       "    }\n",
       "\n",
       "    .dataframe tbody tr th {\n",
       "        vertical-align: top;\n",
       "    }\n",
       "\n",
       "    .dataframe thead th {\n",
       "        text-align: right;\n",
       "    }\n",
       "</style>\n",
       "<table border=\"1\" class=\"dataframe\">\n",
       "  <thead>\n",
       "    <tr style=\"text-align: right;\">\n",
       "      <th></th>\n",
       "      <th>index</th>\n",
       "      <th>number_of_siblings</th>\n",
       "      <th>direct_admission</th>\n",
       "      <th>CCA</th>\n",
       "      <th>learning_style</th>\n",
       "      <th>student_id</th>\n",
       "      <th>gender</th>\n",
       "      <th>tuition</th>\n",
       "      <th>final_test</th>\n",
       "      <th>n_male</th>\n",
       "      <th>n_female</th>\n",
       "      <th>age</th>\n",
       "      <th>hours_per_week</th>\n",
       "      <th>attendance_rate</th>\n",
       "      <th>sleep_time</th>\n",
       "      <th>wake_time</th>\n",
       "      <th>mode_of_transport</th>\n",
       "      <th>bag_color</th>\n",
       "    </tr>\n",
       "  </thead>\n",
       "  <tbody>\n",
       "    <tr>\n",
       "      <th>15895</th>\n",
       "      <td>15895</td>\n",
       "      <td>1</td>\n",
       "      <td>No</td>\n",
       "      <td>Clubs</td>\n",
       "      <td>Visual</td>\n",
       "      <td>XPECN2</td>\n",
       "      <td>Female</td>\n",
       "      <td>No</td>\n",
       "      <td>56.0</td>\n",
       "      <td>12.0</td>\n",
       "      <td>14.0</td>\n",
       "      <td>16.0</td>\n",
       "      <td>9.0</td>\n",
       "      <td>96.0</td>\n",
       "      <td>22:00</td>\n",
       "      <td>6:00</td>\n",
       "      <td>private transport</td>\n",
       "      <td>black</td>\n",
       "    </tr>\n",
       "    <tr>\n",
       "      <th>15896</th>\n",
       "      <td>15896</td>\n",
       "      <td>1</td>\n",
       "      <td>Yes</td>\n",
       "      <td>None</td>\n",
       "      <td>Auditory</td>\n",
       "      <td>7AMC7S</td>\n",
       "      <td>Male</td>\n",
       "      <td>Yes</td>\n",
       "      <td>85.0</td>\n",
       "      <td>17.0</td>\n",
       "      <td>5.0</td>\n",
       "      <td>16.0</td>\n",
       "      <td>7.0</td>\n",
       "      <td>91.0</td>\n",
       "      <td>22:30</td>\n",
       "      <td>6:30</td>\n",
       "      <td>private transport</td>\n",
       "      <td>white</td>\n",
       "    </tr>\n",
       "    <tr>\n",
       "      <th>15897</th>\n",
       "      <td>15897</td>\n",
       "      <td>1</td>\n",
       "      <td>Yes</td>\n",
       "      <td>Sports</td>\n",
       "      <td>Auditory</td>\n",
       "      <td>XKZ6VN</td>\n",
       "      <td>Female</td>\n",
       "      <td>Yes</td>\n",
       "      <td>76.0</td>\n",
       "      <td>7.0</td>\n",
       "      <td>10.0</td>\n",
       "      <td>15.0</td>\n",
       "      <td>7.0</td>\n",
       "      <td>93.0</td>\n",
       "      <td>23:00</td>\n",
       "      <td>7:00</td>\n",
       "      <td>walk</td>\n",
       "      <td>red</td>\n",
       "    </tr>\n",
       "    <tr>\n",
       "      <th>15898</th>\n",
       "      <td>15898</td>\n",
       "      <td>1</td>\n",
       "      <td>No</td>\n",
       "      <td>Clubs</td>\n",
       "      <td>Visual</td>\n",
       "      <td>2OU4UQ</td>\n",
       "      <td>Male</td>\n",
       "      <td>Yes</td>\n",
       "      <td>45.0</td>\n",
       "      <td>18.0</td>\n",
       "      <td>12.0</td>\n",
       "      <td>16.0</td>\n",
       "      <td>3.0</td>\n",
       "      <td>94.0</td>\n",
       "      <td>23:00</td>\n",
       "      <td>7:00</td>\n",
       "      <td>walk</td>\n",
       "      <td>yellow</td>\n",
       "    </tr>\n",
       "    <tr>\n",
       "      <th>15899</th>\n",
       "      <td>15899</td>\n",
       "      <td>2</td>\n",
       "      <td>Yes</td>\n",
       "      <td>None</td>\n",
       "      <td>Visual</td>\n",
       "      <td>D9OKLV</td>\n",
       "      <td>Male</td>\n",
       "      <td>No</td>\n",
       "      <td>87.0</td>\n",
       "      <td>11.0</td>\n",
       "      <td>7.0</td>\n",
       "      <td>16.0</td>\n",
       "      <td>9.0</td>\n",
       "      <td>91.0</td>\n",
       "      <td>23:00</td>\n",
       "      <td>7:00</td>\n",
       "      <td>walk</td>\n",
       "      <td>yellow</td>\n",
       "    </tr>\n",
       "  </tbody>\n",
       "</table>\n",
       "</div>"
      ],
      "text/plain": [
       "       index  number_of_siblings direct_admission     CCA learning_style  \\\n",
       "15895  15895                   1               No   Clubs         Visual   \n",
       "15896  15896                   1              Yes    None       Auditory   \n",
       "15897  15897                   1              Yes  Sports       Auditory   \n",
       "15898  15898                   1               No   Clubs         Visual   \n",
       "15899  15899                   2              Yes    None         Visual   \n",
       "\n",
       "      student_id  gender tuition  final_test  n_male  n_female   age  \\\n",
       "15895     XPECN2  Female      No        56.0    12.0      14.0  16.0   \n",
       "15896     7AMC7S    Male     Yes        85.0    17.0       5.0  16.0   \n",
       "15897     XKZ6VN  Female     Yes        76.0     7.0      10.0  15.0   \n",
       "15898     2OU4UQ    Male     Yes        45.0    18.0      12.0  16.0   \n",
       "15899     D9OKLV    Male      No        87.0    11.0       7.0  16.0   \n",
       "\n",
       "       hours_per_week  attendance_rate sleep_time wake_time  \\\n",
       "15895             9.0             96.0      22:00      6:00   \n",
       "15896             7.0             91.0      22:30      6:30   \n",
       "15897             7.0             93.0      23:00      7:00   \n",
       "15898             3.0             94.0      23:00      7:00   \n",
       "15899             9.0             91.0      23:00      7:00   \n",
       "\n",
       "       mode_of_transport bag_color  \n",
       "15895  private transport     black  \n",
       "15896  private transport     white  \n",
       "15897               walk       red  \n",
       "15898               walk    yellow  \n",
       "15899               walk    yellow  "
      ]
     },
     "execution_count": 5,
     "metadata": {},
     "output_type": "execute_result"
    }
   ],
   "source": [
    "df.tail()"
   ]
  },
  {
   "cell_type": "markdown",
   "id": "8511e00f-5f1a-44e9-95ba-e14c54f95b54",
   "metadata": {},
   "source": [
    "### By looking at the unique values, we are able to immediately see a slight mismatch in index and student_id, meaning there are 900 entries that we need to verify are usable"
   ]
  },
  {
   "cell_type": "code",
   "execution_count": 6,
   "id": "0995b4f0-9f1b-427b-bdc0-6387a2785108",
   "metadata": {},
   "outputs": [
    {
     "data": {
      "text/plain": [
       "index                 15900\n",
       "number_of_siblings        3\n",
       "direct_admission          2\n",
       "CCA                       8\n",
       "learning_style            2\n",
       "student_id            15000\n",
       "gender                    2\n",
       "tuition                   4\n",
       "final_test               68\n",
       "n_male                   32\n",
       "n_female                 32\n",
       "age                       6\n",
       "hours_per_week           21\n",
       "attendance_rate          61\n",
       "sleep_time               13\n",
       "wake_time                 5\n",
       "mode_of_transport         3\n",
       "bag_color                 6\n",
       "dtype: int64"
      ]
     },
     "execution_count": 6,
     "metadata": {},
     "output_type": "execute_result"
    }
   ],
   "source": [
    "df.nunique()"
   ]
  },
  {
   "cell_type": "code",
   "execution_count": 7,
   "id": "9b3a5381-3862-47fa-a3ba-1dae8c64286e",
   "metadata": {},
   "outputs": [
    {
     "data": {
      "text/plain": [
       "(15900, 18)"
      ]
     },
     "execution_count": 7,
     "metadata": {},
     "output_type": "execute_result"
    }
   ],
   "source": [
    "df.shape"
   ]
  },
  {
   "cell_type": "markdown",
   "id": "08391c49-9bb9-4870-af96-b415bcca7146",
   "metadata": {},
   "source": [
    "# Data Cleaning"
   ]
  },
  {
   "cell_type": "markdown",
   "id": "60f9c6c4-c4a5-47c5-8765-4609f5a0ef4b",
   "metadata": {},
   "source": [
    "## STUDENT_ID"
   ]
  },
  {
   "cell_type": "markdown",
   "id": "c40cb2de-b154-412a-b207-93887712ac64",
   "metadata": {},
   "source": [
    "### A total of 900 student_id are duplicates. A same assumption would be that there should not be any duplicate student_id's, and thus these are dropped"
   ]
  },
  {
   "cell_type": "markdown",
   "id": "9e4d70bf-8630-4c13-8436-71dbe85265bc",
   "metadata": {},
   "source": [
    "#### Using this list of duplicated student_id's, we are able to check whether the repeated entries have the same data."
   ]
  },
  {
   "cell_type": "code",
   "execution_count": 8,
   "id": "472128a7-5363-4fe0-b587-c3878128a50b",
   "metadata": {},
   "outputs": [
    {
     "data": {
      "text/html": [
       "<div>\n",
       "<style scoped>\n",
       "    .dataframe tbody tr th:only-of-type {\n",
       "        vertical-align: middle;\n",
       "    }\n",
       "\n",
       "    .dataframe tbody tr th {\n",
       "        vertical-align: top;\n",
       "    }\n",
       "\n",
       "    .dataframe thead th {\n",
       "        text-align: right;\n",
       "    }\n",
       "</style>\n",
       "<table border=\"1\" class=\"dataframe\">\n",
       "  <thead>\n",
       "    <tr style=\"text-align: right;\">\n",
       "      <th></th>\n",
       "      <th>index</th>\n",
       "      <th>number_of_siblings</th>\n",
       "      <th>direct_admission</th>\n",
       "      <th>CCA</th>\n",
       "      <th>learning_style</th>\n",
       "      <th>student_id</th>\n",
       "      <th>gender</th>\n",
       "      <th>tuition</th>\n",
       "      <th>final_test</th>\n",
       "      <th>n_male</th>\n",
       "      <th>n_female</th>\n",
       "      <th>age</th>\n",
       "      <th>hours_per_week</th>\n",
       "      <th>attendance_rate</th>\n",
       "      <th>sleep_time</th>\n",
       "      <th>wake_time</th>\n",
       "      <th>mode_of_transport</th>\n",
       "      <th>bag_color</th>\n",
       "    </tr>\n",
       "  </thead>\n",
       "  <tbody>\n",
       "    <tr>\n",
       "      <th>4</th>\n",
       "      <td>4</td>\n",
       "      <td>0</td>\n",
       "      <td>No</td>\n",
       "      <td>Sports</td>\n",
       "      <td>Auditory</td>\n",
       "      <td>AXZN2E</td>\n",
       "      <td>Male</td>\n",
       "      <td>No</td>\n",
       "      <td>66.0</td>\n",
       "      <td>24.0</td>\n",
       "      <td>3.0</td>\n",
       "      <td>16.0</td>\n",
       "      <td>7.0</td>\n",
       "      <td>95.0</td>\n",
       "      <td>21:30</td>\n",
       "      <td>5:30</td>\n",
       "      <td>public transport</td>\n",
       "      <td>yellow</td>\n",
       "    </tr>\n",
       "    <tr>\n",
       "      <th>12</th>\n",
       "      <td>12</td>\n",
       "      <td>0</td>\n",
       "      <td>No</td>\n",
       "      <td>Sports</td>\n",
       "      <td>Visual</td>\n",
       "      <td>T4U89N</td>\n",
       "      <td>Male</td>\n",
       "      <td>Yes</td>\n",
       "      <td>85.0</td>\n",
       "      <td>14.0</td>\n",
       "      <td>4.0</td>\n",
       "      <td>16.0</td>\n",
       "      <td>8.0</td>\n",
       "      <td>95.0</td>\n",
       "      <td>23:00</td>\n",
       "      <td>7:00</td>\n",
       "      <td>walk</td>\n",
       "      <td>green</td>\n",
       "    </tr>\n",
       "    <tr>\n",
       "      <th>14</th>\n",
       "      <td>14</td>\n",
       "      <td>0</td>\n",
       "      <td>Yes</td>\n",
       "      <td>Arts</td>\n",
       "      <td>Auditory</td>\n",
       "      <td>G0JBVS</td>\n",
       "      <td>Female</td>\n",
       "      <td>Yes</td>\n",
       "      <td>75.0</td>\n",
       "      <td>14.0</td>\n",
       "      <td>2.0</td>\n",
       "      <td>15.0</td>\n",
       "      <td>15.0</td>\n",
       "      <td>98.0</td>\n",
       "      <td>22:30</td>\n",
       "      <td>6:30</td>\n",
       "      <td>private transport</td>\n",
       "      <td>white</td>\n",
       "    </tr>\n",
       "    <tr>\n",
       "      <th>21</th>\n",
       "      <td>21</td>\n",
       "      <td>0</td>\n",
       "      <td>No</td>\n",
       "      <td>None</td>\n",
       "      <td>Visual</td>\n",
       "      <td>HJ6Y5P</td>\n",
       "      <td>Male</td>\n",
       "      <td>Yes</td>\n",
       "      <td>86.0</td>\n",
       "      <td>17.0</td>\n",
       "      <td>6.0</td>\n",
       "      <td>16.0</td>\n",
       "      <td>8.0</td>\n",
       "      <td>91.0</td>\n",
       "      <td>23:30</td>\n",
       "      <td>6:30</td>\n",
       "      <td>private transport</td>\n",
       "      <td>red</td>\n",
       "    </tr>\n",
       "    <tr>\n",
       "      <th>24</th>\n",
       "      <td>24</td>\n",
       "      <td>0</td>\n",
       "      <td>No</td>\n",
       "      <td>Arts</td>\n",
       "      <td>Visual</td>\n",
       "      <td>PQ059G</td>\n",
       "      <td>Male</td>\n",
       "      <td>No</td>\n",
       "      <td>77.0</td>\n",
       "      <td>23.0</td>\n",
       "      <td>4.0</td>\n",
       "      <td>15.0</td>\n",
       "      <td>6.0</td>\n",
       "      <td>93.0</td>\n",
       "      <td>21:00</td>\n",
       "      <td>5:00</td>\n",
       "      <td>public transport</td>\n",
       "      <td>red</td>\n",
       "    </tr>\n",
       "    <tr>\n",
       "      <th>...</th>\n",
       "      <td>...</td>\n",
       "      <td>...</td>\n",
       "      <td>...</td>\n",
       "      <td>...</td>\n",
       "      <td>...</td>\n",
       "      <td>...</td>\n",
       "      <td>...</td>\n",
       "      <td>...</td>\n",
       "      <td>...</td>\n",
       "      <td>...</td>\n",
       "      <td>...</td>\n",
       "      <td>...</td>\n",
       "      <td>...</td>\n",
       "      <td>...</td>\n",
       "      <td>...</td>\n",
       "      <td>...</td>\n",
       "      <td>...</td>\n",
       "      <td>...</td>\n",
       "    </tr>\n",
       "    <tr>\n",
       "      <th>15868</th>\n",
       "      <td>15868</td>\n",
       "      <td>1</td>\n",
       "      <td>No</td>\n",
       "      <td>Clubs</td>\n",
       "      <td>Visual</td>\n",
       "      <td>1FKAEF</td>\n",
       "      <td>Male</td>\n",
       "      <td>No</td>\n",
       "      <td>61.0</td>\n",
       "      <td>20.0</td>\n",
       "      <td>6.0</td>\n",
       "      <td>16.0</td>\n",
       "      <td>6.0</td>\n",
       "      <td>95.0</td>\n",
       "      <td>21:30</td>\n",
       "      <td>5:30</td>\n",
       "      <td>public transport</td>\n",
       "      <td>yellow</td>\n",
       "    </tr>\n",
       "    <tr>\n",
       "      <th>15871</th>\n",
       "      <td>15871</td>\n",
       "      <td>1</td>\n",
       "      <td>No</td>\n",
       "      <td>Arts</td>\n",
       "      <td>Visual</td>\n",
       "      <td>Z9YY3M</td>\n",
       "      <td>Female</td>\n",
       "      <td>No</td>\n",
       "      <td>52.0</td>\n",
       "      <td>25.0</td>\n",
       "      <td>5.0</td>\n",
       "      <td>15.0</td>\n",
       "      <td>18.0</td>\n",
       "      <td>98.0</td>\n",
       "      <td>22:00</td>\n",
       "      <td>6:00</td>\n",
       "      <td>private transport</td>\n",
       "      <td>black</td>\n",
       "    </tr>\n",
       "    <tr>\n",
       "      <th>15875</th>\n",
       "      <td>15875</td>\n",
       "      <td>0</td>\n",
       "      <td>No</td>\n",
       "      <td>Clubs</td>\n",
       "      <td>Auditory</td>\n",
       "      <td>MCO9BB</td>\n",
       "      <td>Female</td>\n",
       "      <td>Yes</td>\n",
       "      <td>68.0</td>\n",
       "      <td>17.0</td>\n",
       "      <td>4.0</td>\n",
       "      <td>16.0</td>\n",
       "      <td>13.0</td>\n",
       "      <td>99.0</td>\n",
       "      <td>22:00</td>\n",
       "      <td>6:00</td>\n",
       "      <td>private transport</td>\n",
       "      <td>red</td>\n",
       "    </tr>\n",
       "    <tr>\n",
       "      <th>15886</th>\n",
       "      <td>15886</td>\n",
       "      <td>0</td>\n",
       "      <td>No</td>\n",
       "      <td>None</td>\n",
       "      <td>Visual</td>\n",
       "      <td>72YL3P</td>\n",
       "      <td>Male</td>\n",
       "      <td>Yes</td>\n",
       "      <td>89.0</td>\n",
       "      <td>10.0</td>\n",
       "      <td>12.0</td>\n",
       "      <td>15.0</td>\n",
       "      <td>7.0</td>\n",
       "      <td>95.0</td>\n",
       "      <td>22:00</td>\n",
       "      <td>6:00</td>\n",
       "      <td>private transport</td>\n",
       "      <td>blue</td>\n",
       "    </tr>\n",
       "    <tr>\n",
       "      <th>15894</th>\n",
       "      <td>15894</td>\n",
       "      <td>0</td>\n",
       "      <td>No</td>\n",
       "      <td>NONE</td>\n",
       "      <td>Visual</td>\n",
       "      <td>XT1L7Z</td>\n",
       "      <td>Male</td>\n",
       "      <td>Yes</td>\n",
       "      <td>73.0</td>\n",
       "      <td>16.0</td>\n",
       "      <td>12.0</td>\n",
       "      <td>15.0</td>\n",
       "      <td>14.0</td>\n",
       "      <td>95.0</td>\n",
       "      <td>22:30</td>\n",
       "      <td>6:30</td>\n",
       "      <td>private transport</td>\n",
       "      <td>blue</td>\n",
       "    </tr>\n",
       "  </tbody>\n",
       "</table>\n",
       "<p>1800 rows × 18 columns</p>\n",
       "</div>"
      ],
      "text/plain": [
       "       index  number_of_siblings direct_admission     CCA learning_style  \\\n",
       "4          4                   0               No  Sports       Auditory   \n",
       "12        12                   0               No  Sports         Visual   \n",
       "14        14                   0              Yes    Arts       Auditory   \n",
       "21        21                   0               No    None         Visual   \n",
       "24        24                   0               No    Arts         Visual   \n",
       "...      ...                 ...              ...     ...            ...   \n",
       "15868  15868                   1               No   Clubs         Visual   \n",
       "15871  15871                   1               No    Arts         Visual   \n",
       "15875  15875                   0               No   Clubs       Auditory   \n",
       "15886  15886                   0               No    None         Visual   \n",
       "15894  15894                   0               No    NONE         Visual   \n",
       "\n",
       "      student_id  gender tuition  final_test  n_male  n_female   age  \\\n",
       "4         AXZN2E    Male      No        66.0    24.0       3.0  16.0   \n",
       "12        T4U89N    Male     Yes        85.0    14.0       4.0  16.0   \n",
       "14        G0JBVS  Female     Yes        75.0    14.0       2.0  15.0   \n",
       "21        HJ6Y5P    Male     Yes        86.0    17.0       6.0  16.0   \n",
       "24        PQ059G    Male      No        77.0    23.0       4.0  15.0   \n",
       "...          ...     ...     ...         ...     ...       ...   ...   \n",
       "15868     1FKAEF    Male      No        61.0    20.0       6.0  16.0   \n",
       "15871     Z9YY3M  Female      No        52.0    25.0       5.0  15.0   \n",
       "15875     MCO9BB  Female     Yes        68.0    17.0       4.0  16.0   \n",
       "15886     72YL3P    Male     Yes        89.0    10.0      12.0  15.0   \n",
       "15894     XT1L7Z    Male     Yes        73.0    16.0      12.0  15.0   \n",
       "\n",
       "       hours_per_week  attendance_rate sleep_time wake_time  \\\n",
       "4                 7.0             95.0      21:30      5:30   \n",
       "12                8.0             95.0      23:00      7:00   \n",
       "14               15.0             98.0      22:30      6:30   \n",
       "21                8.0             91.0      23:30      6:30   \n",
       "24                6.0             93.0      21:00      5:00   \n",
       "...               ...              ...        ...       ...   \n",
       "15868             6.0             95.0      21:30      5:30   \n",
       "15871            18.0             98.0      22:00      6:00   \n",
       "15875            13.0             99.0      22:00      6:00   \n",
       "15886             7.0             95.0      22:00      6:00   \n",
       "15894            14.0             95.0      22:30      6:30   \n",
       "\n",
       "       mode_of_transport bag_color  \n",
       "4       public transport    yellow  \n",
       "12                  walk     green  \n",
       "14     private transport     white  \n",
       "21     private transport       red  \n",
       "24      public transport       red  \n",
       "...                  ...       ...  \n",
       "15868   public transport    yellow  \n",
       "15871  private transport     black  \n",
       "15875  private transport       red  \n",
       "15886  private transport      blue  \n",
       "15894  private transport      blue  \n",
       "\n",
       "[1800 rows x 18 columns]"
      ]
     },
     "execution_count": 8,
     "metadata": {},
     "output_type": "execute_result"
    }
   ],
   "source": [
    "df[df.duplicated(['student_id'], keep=False)]"
   ]
  },
  {
   "cell_type": "code",
   "execution_count": 9,
   "id": "8a1ce0c9-443f-43d9-b748-39e274231192",
   "metadata": {},
   "outputs": [
    {
     "data": {
      "text/plain": [
       "[15273, 15868]"
      ]
     },
     "execution_count": 9,
     "metadata": {},
     "output_type": "execute_result"
    }
   ],
   "source": [
    "df.index[df['student_id']==\"1FKAEF\"].tolist()\n"
   ]
  },
  {
   "cell_type": "code",
   "execution_count": 10,
   "id": "1cf15193-1d84-4b49-96d5-20fc92dc3ac6",
   "metadata": {},
   "outputs": [
    {
     "name": "stdout",
     "output_type": "stream",
     "text": [
      "       index  number_of_siblings direct_admission    CCA learning_style  \\\n",
      "15273  15273                   1               No  Clubs         Visual   \n",
      "\n",
      "      student_id gender tuition  final_test  n_male  n_female   age  \\\n",
      "15273     1FKAEF   Male      No        61.0    20.0       6.0  16.0   \n",
      "\n",
      "       hours_per_week  attendance_rate sleep_time wake_time mode_of_transport  \\\n",
      "15273             6.0             95.0      21:30      5:30  public transport   \n",
      "\n",
      "      bag_color  \n",
      "15273     green  \n"
     ]
    }
   ],
   "source": [
    "print(df.loc[[15273]])"
   ]
  },
  {
   "cell_type": "code",
   "execution_count": 11,
   "id": "2c65cbdf-72a3-4e45-afa5-e6e0350fa626",
   "metadata": {},
   "outputs": [
    {
     "name": "stdout",
     "output_type": "stream",
     "text": [
      "       index  number_of_siblings direct_admission    CCA learning_style  \\\n",
      "15868  15868                   1               No  Clubs         Visual   \n",
      "\n",
      "      student_id gender tuition  final_test  n_male  n_female   age  \\\n",
      "15868     1FKAEF   Male      No        61.0    20.0       6.0  16.0   \n",
      "\n",
      "       hours_per_week  attendance_rate sleep_time wake_time mode_of_transport  \\\n",
      "15868             6.0             95.0      21:30      5:30  public transport   \n",
      "\n",
      "      bag_color  \n",
      "15868    yellow  \n"
     ]
    }
   ],
   "source": [
    "print(df.loc[[15868]])"
   ]
  },
  {
   "cell_type": "markdown",
   "id": "f6a2f8c0-661d-4706-84d9-27b76ef5ea36",
   "metadata": {},
   "source": [
    "#### From the above 3 cells, we are able to verify that these entries are indeed repeated and thus can be removed"
   ]
  },
  {
   "cell_type": "code",
   "execution_count": 12,
   "id": "4051c80e-7c3b-42ac-b91f-ae9859d02477",
   "metadata": {},
   "outputs": [
    {
     "data": {
      "text/plain": [
       "(15000, 18)"
      ]
     },
     "execution_count": 12,
     "metadata": {},
     "output_type": "execute_result"
    }
   ],
   "source": [
    "df = df.drop_duplicates(subset=['student_id'], keep='first')\n",
    "df.shape"
   ]
  },
  {
   "cell_type": "markdown",
   "id": "b8d20131-66a1-4596-87f8-6da389f7ca4d",
   "metadata": {},
   "source": [
    "## TUITION #TODO"
   ]
  },
  {
   "cell_type": "markdown",
   "id": "b7cd82b9-dad1-43f4-b214-7844237068ac",
   "metadata": {},
   "source": [
    "### Under tuition there are 4 different variables that will need to be cleaned as well, sorted into 2 variables, \"Yes\" and \"No\""
   ]
  },
  {
   "cell_type": "code",
   "execution_count": 13,
   "id": "55ee97f8-b49b-4ccc-81f1-888dd17689cc",
   "metadata": {},
   "outputs": [
    {
     "data": {
      "text/plain": [
       "array(['No', 'Yes', 'Y', 'N'], dtype=object)"
      ]
     },
     "execution_count": 13,
     "metadata": {},
     "output_type": "execute_result"
    }
   ],
   "source": [
    "df['tuition'].unique()"
   ]
  },
  {
   "cell_type": "markdown",
   "id": "ee4d31f7-d4a4-4ed0-903f-8ac5476ca193",
   "metadata": {},
   "source": [
    "## CCA #TODO"
   ]
  },
  {
   "cell_type": "markdown",
   "id": "8f7dd03f-d299-4ab4-9978-a02ea29c8ee6",
   "metadata": {},
   "source": [
    "### None and NONE needs to be cleaned"
   ]
  },
  {
   "cell_type": "code",
   "execution_count": 14,
   "id": "b38721f1-7270-4bd0-8824-c21526d87f3e",
   "metadata": {},
   "outputs": [
    {
     "data": {
      "text/plain": [
       "array(['Sports', 'None', 'Clubs', 'Arts', 'ARTS', 'SPORTS', 'CLUBS',\n",
       "       'NONE'], dtype=object)"
      ]
     },
     "execution_count": 14,
     "metadata": {},
     "output_type": "execute_result"
    }
   ],
   "source": [
    "df['CCA'].unique()"
   ]
  },
  {
   "cell_type": "markdown",
   "id": "0ea63e21-d002-441c-8389-22f14a741443",
   "metadata": {},
   "source": [
    "## FINAL_TEST"
   ]
  },
  {
   "cell_type": "markdown",
   "id": "17adce0f-2ea9-45df-8e82-adeab8764313",
   "metadata": {},
   "source": [
    "### For nan scores, we need to determine the reason behind it, did they not take the test at all? Find the number of these scores, and if it is a significant number, perhaps we can exclude these scores"
   ]
  },
  {
   "cell_type": "code",
   "execution_count": 15,
   "id": "b9ef34b2-0e07-443a-bafb-d04d48bf5711",
   "metadata": {},
   "outputs": [
    {
     "data": {
      "text/plain": [
       "array([ 69.,  47.,  85.,  64.,  66.,  57.,  76.,  60.,  72.,  52.,  83.,\n",
       "        75.,  63.,  42.,  70.,  56.,  79.,  59.,  86.,  95.,  77.,  54.,\n",
       "        74.,  39.,  88.,  nan,  78.,  58.,  45.,  53.,  71.,  92.,  62.,\n",
       "        81.,  49.,  82.,  48.,  51.,  40.,  65.,  55.,  50.,  94.,  67.,\n",
       "        89.,  93.,  87.,  46.,  84.,  73.,  91.,  38.,  96.,  68.,  61.,\n",
       "        41.,  80.,  44.,  99.,  43.,  90.,  34., 100.,  37.,  97.,  32.,\n",
       "        35.,  98.,  36.])"
      ]
     },
     "execution_count": 15,
     "metadata": {},
     "output_type": "execute_result"
    }
   ],
   "source": [
    "df['final_test'].unique()"
   ]
  },
  {
   "cell_type": "markdown",
   "id": "eaeb9e50-850e-4e2a-90c1-dca0321de8a8",
   "metadata": {},
   "source": [
    "### There are a total of 463 entries that do not have values, without further information on why these students did not have scores, these will have to be removed from the dataset"
   ]
  },
  {
   "cell_type": "code",
   "execution_count": 16,
   "id": "ab86aa41-7468-4895-bb30-7ee1da533f85",
   "metadata": {},
   "outputs": [
    {
     "name": "stdout",
     "output_type": "stream",
     "text": [
      "463\n"
     ]
    },
    {
     "data": {
      "text/plain": [
       "(15000, 18)"
      ]
     },
     "execution_count": 16,
     "metadata": {},
     "output_type": "execute_result"
    }
   ],
   "source": [
    "mask = pd.to_numeric(df['final_test'], errors='coerce').isna()\n",
    "print(mask.sum())\n",
    "df.shape"
   ]
  },
  {
   "cell_type": "markdown",
   "id": "c6d99ecb-1806-4df6-a8b9-7d3e9cc24c6f",
   "metadata": {},
   "source": [
    "## AGE"
   ]
  },
  {
   "cell_type": "markdown",
   "id": "7b5f0746-c7da-43d4-ab0c-2aae29444d6f",
   "metadata": {},
   "source": [
    "### As this dataset is based on secondary school data, which on average is for students between the ages 12-17 (including those born on 31 Dec and including all streams), those entries with ages <12 will be removed"
   ]
  },
  {
   "cell_type": "code",
   "execution_count": 17,
   "id": "00509f54-5fd2-45b4-b4d6-47c80786ddea",
   "metadata": {},
   "outputs": [
    {
     "data": {
      "text/plain": [
       "array([16., 15.,  6.,  5., -4., -5.])"
      ]
     },
     "execution_count": 17,
     "metadata": {},
     "output_type": "execute_result"
    }
   ],
   "source": [
    "df['age'].unique()"
   ]
  },
  {
   "cell_type": "code",
   "execution_count": null,
   "id": "23bc4433-55ef-4762-a6b8-e5b784655738",
   "metadata": {},
   "outputs": [],
   "source": []
  }
 ],
 "metadata": {
  "kernelspec": {
   "display_name": "Python 3 (ipykernel)",
   "language": "python",
   "name": "python3"
  },
  "language_info": {
   "codemirror_mode": {
    "name": "ipython",
    "version": 3
   },
   "file_extension": ".py",
   "mimetype": "text/x-python",
   "name": "python",
   "nbconvert_exporter": "python",
   "pygments_lexer": "ipython3",
   "version": "3.12.2"
  }
 },
 "nbformat": 4,
 "nbformat_minor": 5
}
